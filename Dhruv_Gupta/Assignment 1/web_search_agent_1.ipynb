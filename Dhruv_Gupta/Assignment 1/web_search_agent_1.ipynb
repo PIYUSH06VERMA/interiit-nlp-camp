{
 "cells": [
  {
   "cell_type": "markdown",
   "id": "facd510b",
   "metadata": {},
   "source": [
    "### Web Search Agent 1.\n",
    "\n",
    "## Simple Web Search Agent using duckduckgo API"
   ]
  },
  {
   "cell_type": "markdown",
   "id": "c5a1cc7a",
   "metadata": {},
   "source": [
    "This agent:\n",
    "- uses the duckduckgo API (DuckDuckGo Instant Answer API)\n",
    "- Validates queries using pydantic\n",
    "- Has error handling with some fallbacks"
   ]
  },
  {
   "cell_type": "code",
   "execution_count": 3,
   "id": "6f53ab57",
   "metadata": {},
   "outputs": [],
   "source": [
    "import requests\n",
    "from typing import List, Optional\n",
    "from pydantic import BaseModel, ValidationError\n",
    "from dotenv import load_dotenv\n",
    "import os\n",
    "import warnings\n",
    "warnings.filterwarnings(\"ignore\")"
   ]
  },
  {
   "cell_type": "markdown",
   "id": "94d9ab7a",
   "metadata": {},
   "source": [
    "Note: this API doesn't require any API key, just a module called `ddgs` to be used."
   ]
  },
  {
   "cell_type": "markdown",
   "id": "775bf5c2",
   "metadata": {},
   "source": [
    "### Defining the Pydantic model for the search query\n",
    "This schema strictly validates and structures the web search results, applications down the line can use this to get a trusted format and catch errors"
   ]
  },
  {
   "cell_type": "code",
   "execution_count": 4,
   "id": "3a822baa",
   "metadata": {},
   "outputs": [],
   "source": [
    "class SearchResult(BaseModel):\n",
    "    title: str\n",
    "    url: str\n",
    "    snippet: Optional[str]"
   ]
  },
  {
   "cell_type": "markdown",
   "id": "2c2e0393",
   "metadata": {},
   "source": [
    "### Web Search Function (DuckDuckGo API)\n",
    "\n",
    "- Queries the API\n",
    "- If the result set is empty or an error occurs, returns a single informative result.\n",
    "- Exception handling is used for API errors, connection failures, and schema problems.\n"
   ]
  },
  {
   "cell_type": "code",
   "execution_count": 21,
   "id": "9a07dbb7",
   "metadata": {},
   "outputs": [],
   "source": [
    "from ddgs import DDGS\n",
    "\n",
    "def web_search_duckduckgo(query: str, max_results: int = 5) -> List[SearchResult]:\n",
    "    results = []\n",
    "    try:\n",
    "        with DDGS() as ddgs:\n",
    "            for r in ddgs.text(query, max_results=max_results):\n",
    "                snippet = r.get(\"body\", \"\")\n",
    "                if len(snippet) > 200:  # truncate to 200 chars\n",
    "                    snippet = snippet[:200] + \"...\"\n",
    "                results.append(SearchResult(\n",
    "                    title=r.get(\"title\", \"No Title\"),\n",
    "                    url=r.get(\"href\", \"\"),\n",
    "                    snippet=snippet\n",
    "                ))\n",
    "        if not results:\n",
    "            results.append(SearchResult(\n",
    "                title=\"No Results Found\",\n",
    "                url=\"\",\n",
    "                snippet=\"No relevant results were found for your query.\"\n",
    "            ))\n",
    "        return results\n",
    "    except Exception as e:\n",
    "        return [\n",
    "            SearchResult(\n",
    "                title=\"Web Search Error\",\n",
    "                url=\"\",\n",
    "                snippet=f\"An error occurred: {str(e)}\"\n",
    "            )\n",
    "        ]\n"
   ]
  },
  {
   "cell_type": "markdown",
   "id": "d67545cb",
   "metadata": {},
   "source": [
    "The current fallback in the `web_search` function is just to say no results found when theres no results and to give the error messsage when an error has occured. Some ideas:\n",
    "- Making a different function `web_search_with_llm` that uses an LLM call as a fallback in case there is no search results found. "
   ]
  },
  {
   "cell_type": "markdown",
   "id": "e08781b0",
   "metadata": {},
   "source": [
    "### Testing the Agent\n"
   ]
  },
  {
   "cell_type": "code",
   "execution_count": 22,
   "id": "7750be0c",
   "metadata": {},
   "outputs": [
    {
     "name": "stdout",
     "output_type": "stream",
     "text": [
      "1. Why Is A Group Of Crows Called A Murder? | Bird Spot\n",
      "https://www.birdspot.co.uk/bird-brain/why-is-a-group-of-crows-called-a-murder\n",
      "Crows are also known by a variety of other collective nouns, including a horde, a hover, a mob, a parcel, a parliament, and a storytelling. The term parliament is also commonly used to describe a group of owls.\n",
      "\n",
      "2. What is a Group of Crows Called ?\n",
      "https://s3.amazonaws.com/external_clips/4535917/What_is_a_Group_of_Crows_Called_.pdf?1677863847\n",
      "A group of crows is called a murder. There are many different accounts for where this term came from, most of those being based on superstitions and folk tales. A group of crows is called a murder due to collective nouns being popular during medieval times.\n",
      "\n",
      "3. What is a Group of Crows Called & Why? [Murder...] | World Birds\n",
      "https://worldbirds.com/what-is-a-group-of-crows-called/\n",
      "Murder, mob, or horde – what is a group of crows called ? English can be a funny language, and with over 900 collective nouns, it’s bound to get confusing. Crows , as with many bird species, have a myriad of terms to describe a group .\n",
      "\n",
      "4. What Is a Group of Crows Called\n",
      "https://tr.pinterest.com/ideas/what-is-a-group-of-crows-called/950211720703/\n",
      "Find and save ideas about what is a group of crows called on Pinterest.an animal fact is posted on a piece of paper with the caption did you know a group of sheep is called a drove, flock or herd?\n",
      "\n",
      "5. What Do You Call a Group of Crows ? Find Out Here!\n",
      "https://www.needtoknowfacts.com/trivia/animals/what-is-a-group-of-crows-called\n",
      "Discover the intriguing term for a group of crows ! Dive into this trivia question and impress your friends with your knowledge of animal collective nouns.animals. What is a group of crows called ? Flock. Murder.\n",
      "\n"
     ]
    }
   ],
   "source": [
    "query = \"What is a group of crows called?\"\n",
    "results = web_search(query)\n",
    "for idx, res in enumerate(results, 1):\n",
    "    print(f\"{idx}. {res.title}\\n{res.url}\\n{res.snippet}\\n\")\n"
   ]
  },
  {
   "cell_type": "code",
   "execution_count": 23,
   "id": "91e4e838",
   "metadata": {},
   "outputs": [
    {
     "name": "stdout",
     "output_type": "stream",
     "text": [
      "1. MANY Definition & Meaning - Merriam-Webster\n",
      "https://www.merriam-webster.com/dictionary/many\n",
      "The meaning of MANY is consisting of or amounting to a large but indefinite number. How to use many in a sentence.\n",
      "\n",
      "2. 347 Synonyms & Antonyms for MANY | Thesaurus .com\n",
      "https://www.thesaurus.com/browse/many\n",
      "Find 347 different ways to say MANY, along with antonyms, related words, and example sentences at Thesaurus.com.\n",
      "\n",
      "3. MANY | English meaning - Cambridge Dictionary\n",
      "https://dictionary.cambridge.org/dictionary/english/many\n",
      "MANY definition: 1. used mainly in negative sentences and questions and with \"too\", \"so\", and \"as\" to mean \"a large…. Learn more.\n",
      "\n",
      "4. MANY Definition & Meaning | Dictionary .com\n",
      "https://www.dictionary.com/browse/many\n",
      "Many definition: constituting or forming a large number; numerous.. See examples of MANY used in a sentence.\n",
      "\n",
      "5. Many - definition of many by The Free Dictionary\n",
      "https://www.thefreedictionary.com/many\n",
      "Define many. many synonyms, many pronunciation, many translation, English dictionary definition of many. adj. more , most 1. Amounting to or consisting of a large indefinite number: many …\n",
      "\n"
     ]
    }
   ],
   "source": [
    "query = \"How many seasons did it take for Ted to introduce the mother in how I met your mother?\"\n",
    "results = web_search(query)\n",
    "for idx, res in enumerate(results, 1):\n",
    "    print(f\"{idx}. {res.title}\\n{res.url}\\n{res.snippet}\\n\")\n"
   ]
  },
  {
   "cell_type": "code",
   "execution_count": null,
   "id": "29692e70",
   "metadata": {},
   "outputs": [
    {
     "name": "stderr",
     "output_type": "stream",
     "text": [
      "/var/folders/7b/7_944yjs1nbdx3s0b1jsvzyw0000gn/T/ipykernel_41573/2203805329.py:3: RuntimeWarning: This package (`duckduckgo_search`) has been renamed to `ddgs`! Use `pip install ddgs` instead.\n",
      "  with DDGS() as ddgs:\n"
     ]
    },
    {
     "name": "stdout",
     "output_type": "stream",
     "text": [
      "1. How I Met Your Mother: Ted & Robin's Relationship Timeline, …\n",
      "https://screenrant.com/how-i-met-your-mother-ted-robins-relationship-timeline-season-by-season/\n",
      "\n",
      "\n",
      "2. How I Met Your Mother ending explained: Ted's first meeting with …\n",
      "https://www.soapcentral.com/shows/how-i-met-your-mother-ending-explained-ted-s-first-meeting-mother-barney-robin-s-wedding-flash-forward-twist\n",
      "1 day ago · Without wasting any time, let's get on to the juiciest part of the How I Met Your Mother finale, the reveal of the Mother and how Ted meets her. While the mother's partial identity is …\n",
      "\n",
      "3. Ted and Tracy | How I Met Your Mother Wiki | Fandom\n",
      "https://how-i-met-your-mother.fandom.com/wiki/Ted_and_Tracy\n",
      "Ted and Tracy officially met in Last Forever - Part Two, this is some information about their relationship. Ted met Tracy at the Farhampton Train Station after Barney and Robin's …\n",
      "\n",
      "4. The Moment Arrived: When Does Ted Meet His Wife in How I …\n",
      "https://darkskiesfilm.com/what-episode-does-ted-actually-meet-his-wife/\n",
      "Jun 16, 2025 · How I Met Your Mother meticulously built anticipation for the identity of “The Mother” over nine seasons. The show artfully wove clues and teases into the narrative, …\n",
      "\n"
     ]
    }
   ],
   "source": [
    "results = web_search(query)\n",
    "for idx, res in enumerate(results, 1):\n",
    "    print(f\"{idx}. {res.title}\\n{res.url}\\n{res.snippet}\\n\")"
   ]
  },
  {
   "cell_type": "markdown",
   "id": "5a5d65f8",
   "metadata": {},
   "source": [
    "The agent does decent with generic/fact based queries like the first one, but in case of complex and trivia/storyline based queries like the second, the best it can do is just get a set of the most relevant links. The snippets that it displays are simply not enough to get information fast. This is why we need a RAG acting on the agent's results, and this is focused in other notebooks."
   ]
  },
  {
   "cell_type": "markdown",
   "id": "3281f57d",
   "metadata": {},
   "source": []
  }
 ],
 "metadata": {
  "kernelspec": {
   "display_name": "newvenv",
   "language": "python",
   "name": "python3"
  },
  "language_info": {
   "codemirror_mode": {
    "name": "ipython",
    "version": 3
   },
   "file_extension": ".py",
   "mimetype": "text/x-python",
   "name": "python",
   "nbconvert_exporter": "python",
   "pygments_lexer": "ipython3",
   "version": "3.13.5"
  }
 },
 "nbformat": 4,
 "nbformat_minor": 5
}
